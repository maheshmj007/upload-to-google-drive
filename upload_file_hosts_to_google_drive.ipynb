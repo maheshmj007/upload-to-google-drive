{
  "nbformat": 4,
  "nbformat_minor": 0,
  "metadata": {
    "colab": {
      "name": "upload file to drive",
      "provenance": [],
      "collapsed_sections": []
    },
    "kernelspec": {
      "name": "python3",
      "display_name": "Python 3"
    }
  },
  "cells": [
    {
      "cell_type": "code",
      "metadata": {
        "id": "gAtOdlAnaMiO",
        "colab": {
          "base_uri": "https://localhost:8080/"
        },
        "outputId": "478f8fad-6beb-4117-b322-344c0114a7df"
      },
      "source": [
        "from google.colab import drive\n",
        "drive.mount('/content/drive')"
      ],
      "execution_count": null,
      "outputs": [
        {
          "output_type": "stream",
          "text": [
            "Mounted at /content/drive\n"
          ],
          "name": "stdout"
        }
      ]
    },
    {
      "cell_type": "code",
      "metadata": {
        "id": "pisL85WRaQXU",
        "colab": {
          "base_uri": "https://localhost:8080/"
        },
        "outputId": "277cfb68-f93b-46f3-8a73-f93bf3f56799"
      },
      "source": [
        "file_name = 'Tradeciety.Forex.Training.part1.rar' #@param {type:\"string\"}\n",
        "url = 'https://mega.nz/folder/Lo8FgZzL#SWM95vnkS4i0bBPkB3Y7JQ/file/Dp0USKhC' #@param {type:\"string\"}\n",
        "\n",
        "\n",
        "path = '/content/'\n",
        "import os\n",
        "for file in os.listdir():\n",
        "  if os.path.isfile(os.path.join(path, file)):\n",
        "    !rm {file}\n",
        "\n",
        "!wget {url}\n",
        "\n",
        "for file in os.listdir():\n",
        "  if os.path.isfile(os.path.join(path, file)):\n",
        "    download_file = file\n",
        "\n",
        "!mv /content/{download_file} /content/{file_name}\n",
        "\n",
        "!cp /content/{file_name} /content/drive/My\\ Drive/downloads"
      ],
      "execution_count": null,
      "outputs": [
        {
          "output_type": "stream",
          "text": [
            "--2021-01-11 06:21:13--  https://mega.nz/folder/Lo8FgZzL\n",
            "Resolving mega.nz (mega.nz)... 66.203.127.12, 2a0b:e40:3::12\n",
            "Connecting to mega.nz (mega.nz)|66.203.127.12|:443... connected.\n",
            "HTTP request sent, awaiting response... 200 OK\n",
            "Length: 2053 (2.0K) [text/html]\n",
            "Saving to: ‘Lo8FgZzL’\n",
            "\n",
            "Lo8FgZzL            100%[===================>]   2.00K  --.-KB/s    in 0s      \n",
            "\n",
            "2021-01-11 06:21:14 (694 MB/s) - ‘Lo8FgZzL’ saved [2053/2053]\n",
            "\n"
          ],
          "name": "stdout"
        }
      ]
    }
  ]
}